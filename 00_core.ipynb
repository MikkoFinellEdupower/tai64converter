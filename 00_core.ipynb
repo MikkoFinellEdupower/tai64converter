{
 "cells": [
  {
   "cell_type": "code",
   "execution_count": null,
   "metadata": {},
   "outputs": [],
   "source": [
    "# default_exp core"
   ]
  },
  {
   "cell_type": "markdown",
   "metadata": {},
   "source": [
    "# tai64converter\n",
    "\n",
    "> Functions to encode / decode tai64 values to datetime."
   ]
  },
  {
   "cell_type": "markdown",
   "metadata": {},
   "source": [
    "Licenced from [Itamar Turner-Trauring](https://github.com/itamarst)."
   ]
  },
  {
   "cell_type": "markdown",
   "metadata": {},
   "source": [
    "Copyright 2020 Itamar Turner-Trauring\n",
    "\n",
    "Licensed under the Apache License, Version 2.0 (the \"License\");\n",
    "you may not use this file except in compliance with the License.\n",
    "You may obtain a copy of the License at\n",
    "\n",
    "   http://www.apache.org/licenses/LICENSE-2.0\n",
    "\n",
    "Unless required by applicable law or agreed to in writing, software\n",
    "distributed under the License is distributed on an \"AS IS\" BASIS,\n",
    "WITHOUT WARRANTIES OR CONDITIONS OF ANY KIND, either express or implied.\n",
    "See the License for the specific language governing permissions and\n",
    "limitations under the License."
   ]
  },
  {
   "cell_type": "code",
   "execution_count": null,
   "metadata": {},
   "outputs": [],
   "source": [
    "#hide\n",
    "from nbdev.showdoc import *\n",
    "from fastcore.test import *"
   ]
  },
  {
   "cell_type": "code",
   "execution_count": null,
   "metadata": {},
   "outputs": [],
   "source": [
    "#export\n",
    "from __future__ import unicode_literals\n",
    "import struct\n",
    "from binascii import b2a_hex, a2b_hex\n",
    "_STRUCTURE = b\">QI\"\n",
    "_OFFSET = (2 ** 62) + 10  # last 10 are leap seconds\n",
    "def _tai_encode(timestamp):\n",
    "    \"\"\"\n",
    "    Copyright 2020 Itamar Turner-Trauring\n",
    "\n",
    "    Licensed under the Apache License, Version 2.0 (the \"License\");\n",
    "    you may not use this file except in compliance with the License.\n",
    "    You may obtain a copy of the License at\n",
    "\n",
    "       http://www.apache.org/licenses/LICENSE-2.0\n",
    "\n",
    "    Unless required by applicable law or agreed to in writing, software\n",
    "    distributed under the License is distributed on an \"AS IS\" BASIS,\n",
    "    WITHOUT WARRANTIES OR CONDITIONS OF ANY KIND, either express or implied.\n",
    "    See the License for the specific language governing permissions and\n",
    "    limitations under the License.\n",
    "    \"\"\"\n",
    "    \"\"\"\n",
    "    Convert seconds since epoch to TAI64N string.\n",
    "    @param timestamp: Seconds since UTC Unix epoch as C{float}.\n",
    "    @return: TAI64N-encoded time, as C{unicode}.\n",
    "    \"\"\"\n",
    "    seconds = int(timestamp)\n",
    "    nanoseconds = int((timestamp - seconds) * 1000000000)\n",
    "    seconds = seconds + _OFFSET\n",
    "    encoded = b2a_hex(struct.pack(_STRUCTURE, seconds, nanoseconds))\n",
    "    return \"@\" + encoded.decode(\"ascii\")\n",
    "def _tai_decode(tai64n):\n",
    "    \"\"\"\n",
    "    Copyright 2020 Itamar Turner-Trauring\n",
    "\n",
    "    Licensed under the Apache License, Version 2.0 (the \"License\");\n",
    "    you may not use this file except in compliance with the License.\n",
    "    You may obtain a copy of the License at\n",
    "\n",
    "       http://www.apache.org/licenses/LICENSE-2.0\n",
    "\n",
    "    Unless required by applicable law or agreed to in writing, software\n",
    "    distributed under the License is distributed on an \"AS IS\" BASIS,\n",
    "    WITHOUT WARRANTIES OR CONDITIONS OF ANY KIND, either express or implied.\n",
    "    See the License for the specific language governing permissions and\n",
    "    limitations under the License.\n",
    "    \"\"\"\n",
    "    \"\"\"\n",
    "    Convert TAI64N string to seconds since epoch.\n",
    "    Note that dates before 2013 may not decode accurately due to leap second\n",
    "    issues. If you need correct decoding for earlier dates you can try the\n",
    "    tai64n package available from PyPI (U{https://pypi.python.org/pypi/tai64n}).\n",
    "    @param tai64n: TAI64N-encoded time, as C{unicode}.\n",
    "    @return: Seconds since UTC Unix epoch as C{float}.\n",
    "    \"\"\"\n",
    "    seconds, nanoseconds = struct.unpack(_STRUCTURE, a2b_hex(tai64n[1:]))\n",
    "    seconds -= _OFFSET\n",
    "    return seconds + (nanoseconds / 1000000000.0)"
   ]
  },
  {
   "cell_type": "code",
   "execution_count": null,
   "metadata": {},
   "outputs": [],
   "source": [
    "#export\n",
    "from datetime import datetime\n",
    "class Tai64Converter:\n",
    "    def __init__(self, timestamp=None, datetime=None, tai=None):\n",
    "        self.t = None\n",
    "        if timestamp is not None:\n",
    "            self.t = self.encode(timestamp)\n",
    "        elif datetime is not None:\n",
    "            self.t = self.encode(datetime.timestamp())\n",
    "        elif tai is not None:\n",
    "            self.t = tai\n",
    "    def encode(self, value=None):\n",
    "        if value is not None:\n",
    "            return _tai_encode(value)\n",
    "        else:\n",
    "            assert self.t is not None\n",
    "            return self.t\n",
    "    def decode(self, value=None):\n",
    "        if value is not None:\n",
    "            return datetime.fromtimestamp(_tai_decode(value))\n",
    "        else:\n",
    "            assert self.t is not None\n",
    "            return datetime.fromtimestamp(_tai_decode(self.t))"
   ]
  },
  {
   "cell_type": "code",
   "execution_count": null,
   "metadata": {},
   "outputs": [],
   "source": [
    "t = '@400000005ebb9bde074d7c28'\n",
    "d = datetime.strptime('2020-05-13 10:03:48.122518', '%Y-%m-%d %H:%M:%S.%f')\n",
    "test_close(1589353428.122519, d.timestamp(), eps=1e-6)\n",
    "test_eq('@400000005ebb9bde074d7000'[:-3], t[:-3])"
   ]
  },
  {
   "cell_type": "code",
   "execution_count": null,
   "metadata": {},
   "outputs": [],
   "source": [
    "t64 = Tai64Converter()\n",
    "test_close(t64.decode(t).timestamp(), d.timestamp(), eps=1e-6)"
   ]
  },
  {
   "cell_type": "code",
   "execution_count": null,
   "metadata": {},
   "outputs": [
    {
     "data": {
      "text/plain": [
       "1589353428.122519"
      ]
     },
     "execution_count": null,
     "metadata": {},
     "output_type": "execute_result"
    }
   ],
   "source": [
    "t64.decode(t).timestamp()"
   ]
  },
  {
   "cell_type": "code",
   "execution_count": null,
   "metadata": {},
   "outputs": [
    {
     "data": {
      "text/plain": [
       "1589353428.122518"
      ]
     },
     "execution_count": null,
     "metadata": {},
     "output_type": "execute_result"
    }
   ],
   "source": [
    "d.timestamp()"
   ]
  },
  {
   "cell_type": "code",
   "execution_count": null,
   "metadata": {},
   "outputs": [],
   "source": [
    "t64 = Tai64Converter()\n",
    "test_eq(t64.encode(d.timestamp())[:-3], t[:-3])"
   ]
  },
  {
   "cell_type": "code",
   "execution_count": null,
   "metadata": {},
   "outputs": [],
   "source": [
    "t64 = Tai64Converter(timestamp=d.timestamp())\n",
    "test_close(t64.decode().timestamp(), d.timestamp(), eps=1e-6)\n",
    "test_eq(t64.encode()[:-3], t[:-3])"
   ]
  },
  {
   "cell_type": "code",
   "execution_count": null,
   "metadata": {},
   "outputs": [],
   "source": [
    "t64 = Tai64Converter(tai=t)\n",
    "test_close(t64.decode().timestamp(), d.timestamp(), eps=1e-6)\n",
    "test_eq(t64.encode()[:-3], t[:-3])"
   ]
  },
  {
   "cell_type": "code",
   "execution_count": null,
   "metadata": {},
   "outputs": [],
   "source": [
    "t64 = Tai64Converter(datetime=d)\n",
    "test_close(t64.decode().timestamp(), d.timestamp(), eps=1e-6)\n",
    "test_eq(t64.encode()[:-3], t[:-3])"
   ]
  },
  {
   "cell_type": "code",
   "execution_count": null,
   "metadata": {},
   "outputs": [],
   "source": [
    "t64 = Tai64Converter()\n",
    "with ExceptionExpected():\n",
    "    t64.decode()\n",
    "with ExceptionExpected():\n",
    "    t64.encode()"
   ]
  },
  {
   "cell_type": "code",
   "execution_count": null,
   "metadata": {},
   "outputs": [
    {
     "name": "stdout",
     "output_type": "stream",
     "text": [
      "Converted 00_core.ipynb.\n",
      "Converted index.ipynb.\n"
     ]
    }
   ],
   "source": [
    "from nbdev.export import notebook2script; notebook2script()"
   ]
  }
 ],
 "metadata": {
  "kernelspec": {
   "display_name": "Python 3",
   "language": "python",
   "name": "python3"
  }
 },
 "nbformat": 4,
 "nbformat_minor": 4
}
